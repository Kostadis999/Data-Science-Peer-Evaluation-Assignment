{
 "cells": [
  {
   "cell_type": "markdown",
   "metadata": {},
   "source": [
    "<center>\n",
    "    <img src=\"https://cf-courses-data.s3.us.cloud-object-storage.appdomain.cloud/IBMDeveloperSkillsNetwork-DS0105EN-SkillsNetwork/labs/Module2/images/SN_web_lightmode.png\" width=\"300\" alt=\"cognitiveclass.ai logo\">\n",
    "</center>\n"
   ]
  },
  {
   "cell_type": "markdown",
   "metadata": {},
   "source": [
    "#### Add your code below following the instructions given in the course\n"
   ]
  },
  {
   "cell_type": "markdown",
   "metadata": {},
   "source": [
    "My_Jupyter_Notebook.ipynb "
   ]
  },
  {
   "cell_type": "markdown",
   "metadata": {},
   "source": [
    "Introduction: Hello my name is Konstantinos Antonopoulos i live in Greece and this is my first Peer-Graded Assignment. \n",
    "I look forward in getting my work evaluated from my peers. Cheers <3 !"
   ]
  },
  {
   "cell_type": "markdown",
   "metadata": {},
   "source": [
    "# Data science Languages : \n",
    "1.Python <br>\n",
    "2.Scala <br>\n",
    "3.R <br>\n",
    "4.Java <br>\n",
    "5.Julia <br>\n",
    "6.Javascript <br>\n",
    "7.SQL <br>\n",
    "8.C++<br>\n"
   ]
  },
  {
   "cell_type": "markdown",
   "metadata": {
    "tags": []
   },
   "source": [
    "# Data science Libraries for each language: \n",
    "1.Python <br>\n",
    "    -NumPy<br>\n",
    "    -Pandas<br>\n",
    "    -Scikit-learn<br>\n",
    "    -TensorFlow<br>\n",
    "    -PyTorch<br>\n",
    "    -Matplotlib<br>\n",
    "    -Seaborn<br>\n",
    "    -Statsmodels<br>\n",
    "    -NLTK<br>\n",
    "    -SciPy<br>\n",
    "2.R <br>\n",
    "    -ggplot2<br>\n",
    "    -dplyr<br>\n",
    "    -caret<br>\n",
    "    -tidyr<br>\n",
    "    -glmnet<br>\n",
    "3.Scala <br>\n",
    "    -Apache Spark<br>\n",
    "4.SQL <br>\n",
    "    -SQLAlchemy<br>\n",
    "    -pandasql<br>\n",
    "    -SQLite<br>\n",
    "    -MySQL<br>\n",
    "    -PostgreSQL<br>\n",
    "    -OracleDb<br>\n",
    "    -MariaDb<br>\n",
    "    -DB2<br>\n",
    "5.Java<br>\n",
    "    -Weka<br>\n",
    "    -Deeplearning4j<br>\n",
    "6.Julia<br>\n",
    "    -DataFrames<br>\n",
    "    -MLJ<br>\n",
    "    -Plots<br>\n",
    "    -Flux<br>\n",
    "7. JavaScript <br>\n",
    "    -D3.js <br>\n",
    "    -Plotly.js<br>\n",
    "8. C++<br>\n",
    "    -Eigen<br>\n",
    "    -Dlib<br>\n",
    "    -MLpack<br>\n",
    "    -Shark<br>\n",
    "\n",
    "\n"
   ]
  },
  {
   "cell_type": "markdown",
   "metadata": {
    "tags": []
   },
   "source": [
    " Data Science tools: <br>\n",
    "\n",
    "| Data Management| Operating System (IDEs)| Data Integration and Transformation| Data visualization | Model deployment | Model Monitor and Assesment | Code Aseet | Data Asset |\n",
    "|----------|----------|----------|----------|----------|----------|----------|----------|\n",
    "| MySQL |  Jupyter | Spark SQL | PixieDust | PredictionIO | AI Fairness 360 | Git | Egeria |\n",
    "| ceph | Rstudio | Kubeflow | Kibana | Seldon | AI Explainability 360 | GitLab | Kylo | \n",
    "| PostgreSQL | Spyder| Node-Red | Hue | Kubernetes| Adversarial Robustness 360 | GitHub | Atlas |\n",
    "| CouchDB | Visual Studio | Airflow | Superset | OpenShift | Promethues | Bitbucket | - |\n",
    "| cassandra | Pycharm | nifi | Tableau | Mleap | ModelDB | - | - |\n",
    "| mongoDB | Anaconda Navigator | Kafka | PowerBi | TensorFlow Serving | - | - | - |\n",
    "| elasticsearch | Watson |  Informatica  | IBM Cognos Analytics | TensorFlow Lite | - | - | - |\n",
    "| Hadoop | - |  talend | - | TensorFlow.js | - | - | - |\n",
    "| OracleDB | - |  InfoSphere DataStage | - | SPSS | - | - | - |\n",
    "| SQLServer | - |  - | - | SSAS | - | - | - |\n",
    "| DB2 | - |  - | - | - | - | - | - |"
   ]
  },
  {
   "cell_type": "markdown",
   "metadata": {},
   "source": [
    "# Arithmetic Expressions in Jupyter Notebook\n",
    "Arithmetic expressions are fundamental in programming and mathematical computations. <br> Jupyter Notebook allows you to perform basic arithmetic operations easily.<br> Here are some examples:\n",
    "### Addition\n",
    "```python\n",
    "# Example: Addition\n",
    "result = 9 + 1\n",
    "print(result)\n"
   ]
  },
  {
   "cell_type": "markdown",
   "metadata": {},
   "source": [
    "# Creating code cell to multiply and add numbers"
   ]
  },
  {
   "cell_type": "code",
   "execution_count": 3,
   "metadata": {
    "tags": []
   },
   "outputs": [
    {
     "data": {
      "text/plain": [
       "10"
      ]
     },
     "execution_count": 3,
     "metadata": {},
     "output_type": "execute_result"
    }
   ],
   "source": [
    "5 + 5 "
   ]
  },
  {
   "cell_type": "code",
   "execution_count": 4,
   "metadata": {
    "tags": []
   },
   "outputs": [
    {
     "data": {
      "text/plain": [
       "28"
      ]
     },
     "execution_count": 4,
     "metadata": {},
     "output_type": "execute_result"
    }
   ],
   "source": [
    "4*7"
   ]
  },
  {
   "cell_type": "markdown",
   "metadata": {},
   "source": [
    "# Convert minutes to hours\n"
   ]
  },
  {
   "cell_type": "code",
   "execution_count": 6,
   "metadata": {
    "tags": []
   },
   "outputs": [
    {
     "data": {
      "text/plain": [
       "3.066666666666667"
      ]
     },
     "execution_count": 6,
     "metadata": {},
     "output_type": "execute_result"
    }
   ],
   "source": [
    "minutes = 184\n",
    "hours = minutes / 60\n",
    "hours"
   ]
  },
  {
   "cell_type": "markdown",
   "metadata": {},
   "source": [
    "# Objectives of this course: \n",
    "Learn the Data Science tools <br>\n",
    "Learn the most popular languages used in Data Science as well as their libraries <br>\n",
    "Learn about Libraries, APIs, Datasets and Models<br>\n",
    "Learn Jupyter Notebooks and Jupyter Labs <br>\n",
    "Learn R , Rstudio and GitHub"
   ]
  },
  {
   "cell_type": "markdown",
   "metadata": {},
   "source": [
    "# Author’s name: Konstantinos Antonopoulos"
   ]
  }
 ],
 "metadata": {
  "kernelspec": {
   "display_name": "Python",
   "language": "python",
   "name": "conda-env-python-py"
  },
  "language_info": {
   "codemirror_mode": {
    "name": "ipython",
    "version": 3
   },
   "file_extension": ".py",
   "mimetype": "text/x-python",
   "name": "python",
   "nbconvert_exporter": "python",
   "pygments_lexer": "ipython3",
   "version": "3.7.12"
  }
 },
 "nbformat": 4,
 "nbformat_minor": 4
}
